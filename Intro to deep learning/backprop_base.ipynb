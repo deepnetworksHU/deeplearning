{
 "cells": [
  {
   "cell_type": "markdown",
   "metadata": {},
   "source": [
    "Softmax kiszámítása:\n",
    "    $$\\hbox{softmax(x)}_{i} = \\frac{e^{x_{i}}}{e^{x_{0}} + e^{x_{1}} + \\cdots + e^{x_{n-1}}}$$\n",
    "    Szummával:\n",
    "    $$\\hbox{softmax(x)}_{i} = \\frac{e^{x_{i}}}{\\sum_{0 \\leq j \\leq n-1} e^{x_{j}}}$$\n",
    "    A gyakorlatban ennek a logjára van szükség"
   ]
  },
  {
   "cell_type": "markdown",
   "metadata": {},
   "source": [
    "Cross Entropy loss:\n",
    "\n",
    "$$ -\\sum x\\, \\log p(x) $$\n",
    "\n",
    "Amit mi le tudunk egyszerűsíteni azzal, hogy  $-\\log(p_{i})$, ahol az i azt a pozíciót jelenti, amit a label mutat.\n",
    "<br><br>\n",
    "Ehhez a labeleket \"one-hot encodolnunk kell\" <br>\n",
    "Ez annyit jelent hogy a számok, így nézzenek ki:\n",
    "| \"5\" -> | ```[0, 0, 0, 0, 0, 1, 0, 0, 0, 0, 0]```   |\n",
    "|------|------|\n",
    "|   \"9\" ->  | ```[0, 0, 0, 0, 0, 0, 0, 0, 0, 1, 0]```|\n",
    "\n"
   ]
  }
 ],
 "metadata": {
  "kernelspec": {
   "display_name": "Python 3.11.0 64-bit",
   "language": "python",
   "name": "python3"
  },
  "language_info": {
   "codemirror_mode": {
    "name": "ipython",
    "version": 3
   },
   "file_extension": ".py",
   "mimetype": "text/x-python",
   "name": "python",
   "nbconvert_exporter": "python",
   "pygments_lexer": "ipython3",
   "version": "3.11.0"
  },
  "orig_nbformat": 4,
  "vscode": {
   "interpreter": {
    "hash": "aee8b7b246df8f9039afb4144a1f6fd8d2ca17a180786b69acc140d282b71a49"
   }
  }
 },
 "nbformat": 4,
 "nbformat_minor": 2
}
